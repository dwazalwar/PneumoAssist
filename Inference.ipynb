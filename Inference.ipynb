{
 "cells": [
  {
   "cell_type": "code",
   "execution_count": 3,
   "metadata": {},
   "outputs": [
    {
     "name": "stderr",
     "output_type": "stream",
     "text": [
      "Using TensorFlow backend.\n"
     ]
    }
   ],
   "source": [
    "import numpy as np\n",
    "import pandas as pd\n",
    "import pydicom\n",
    "%matplotlib inline\n",
    "import matplotlib.pyplot as plt\n",
    "import keras\n",
    "from keras.models import model_from_json "
   ]
  },
  {
   "cell_type": "code",
   "execution_count": 19,
   "metadata": {},
   "outputs": [],
   "source": [
    "# This function reads in a .dcm file, checks the important fields for our device, and returns a numpy array\n",
    "# of just the imaging data\n",
    "def check_dicom(filename): \n",
    "    \n",
    "    print('Load file {} ...'.format(filename))\n",
    "    ds = pydicom.dcmread(filename)\n",
    "\n",
    "    #Extract relevant DICOM tags\n",
    "    image_position = ds.get('PatientPosition', None)\n",
    "    image_type = ds.get('Modality', None)\n",
    "    body_part = ds.get('BodyPartExamined', None)\n",
    "    \n",
    "    # Validate PatientPosition: must be 'PA' or 'AP'\n",
    "    # Validate Modality: must be 'DX'\n",
    "    # Validate Body Part: must be 'CHEST'\n",
    "\n",
    "    if image_position in ['PA', 'AP'] and image_type == 'DX' and body_part == 'CHEST':\n",
    "        return ds.pixel_array\n",
    "    else:\n",
    "        print(f\"Unsupported Image Type (Modality): {image_type}, (BodyPartExamined): {body_part}, (Image Position): {image_position}\")\n",
    "\n",
    "    return \n",
    "    \n",
    "# This function takes the numpy array output by check_dicom and \n",
    "# runs the appropriate pre-processing needed for our model input\n",
    "def preprocess_image(img,img_mean,img_std,img_size): \n",
    "    \n",
    "    img_norm = img/255.0\n",
    "    new_img = (img_norm - img_mean)/img_std\n",
    "    proc_img = np.resize(new_img, img_size)\n",
    "    \n",
    "    return proc_img\n",
    "\n",
    "# This function loads in our trained model w/ weights and compiles it \n",
    "def load_model(model_path, weight_path):\n",
    "    \n",
    "    with open(model_path, 'r') as json_file:\n",
    "        json_savedModel= json_file.read() \n",
    "        \n",
    "    model = model_from_json(json_savedModel)\n",
    "    model.load_weights(weight_path)\n",
    "    \n",
    "    return model\n",
    "\n",
    "# This function uses our device's threshold parameters to predict whether or not\n",
    "# the image shows the presence of pneumonia using our trained model\n",
    "def predict_image(model, img, thresh): \n",
    "    pred_image = model.predict(img)\n",
    "    prediction = 1 if pred_image >= thresh else 0\n",
    "    \n",
    "    return prediction "
   ]
  },
  {
   "cell_type": "code",
   "execution_count": 21,
   "metadata": {},
   "outputs": [
    {
     "name": "stdout",
     "output_type": "stream",
     "text": [
      "Load file test1.dcm ...\n",
      "test1.dcm does not have Pneumonia\n",
      "Load file test2.dcm ...\n",
      "test2.dcm has Pneumonia\n",
      "Load file test3.dcm ...\n",
      "test3.dcm has Pneumonia\n",
      "Load file test4.dcm ...\n",
      "Unsupported Image Type (Modality): DX, (BodyPartExamined): RIBCAGE, (Image Position): PA\n",
      "Load file test5.dcm ...\n",
      "Unsupported Image Type (Modality): CT, (BodyPartExamined): CHEST, (Image Position): PA\n",
      "Load file test6.dcm ...\n",
      "Unsupported Image Type (Modality): DX, (BodyPartExamined): CHEST, (Image Position): XX\n"
     ]
    }
   ],
   "source": [
    "test_dicoms = ['test1.dcm','test2.dcm','test3.dcm','test4.dcm','test5.dcm','test6.dcm']\n",
    "\n",
    "model_path = 'my_model.json'\n",
    "weight_path = 'pneumonia_detection_my_model.best.hdf5'\n",
    "\n",
    "IMG_SIZE=(1,224,224,3) # This might be different if you did not use vgg16\n",
    "img_mean = 0.49731431 # loads the mean image value they used during training preprocessing\n",
    "img_std = 0.25106729 # loads the std dev image value they used during training preprocessing\n",
    "\n",
    "my_model = load_model(model_path, weight_path)#loads model\n",
    "thresh = 0.47 #loads the threshold they chose for model classification \n",
    "\n",
    "# use the .dcm files to test your prediction\n",
    "for i in test_dicoms:\n",
    "    \n",
    "    img = np.array([])\n",
    "    img = check_dicom(i)\n",
    "    \n",
    "    if img is None:\n",
    "        continue\n",
    "\n",
    "    img_proc = preprocess_image(img,img_mean,img_std,IMG_SIZE)\n",
    "    pred = predict_image(my_model,img_proc,thresh)\n",
    "    if pred:\n",
    "        print(f'{i} has Pneumonia')\n",
    "    else:\n",
    "        print(f'{i} does not have Pneumonia')"
   ]
  },
  {
   "cell_type": "code",
   "execution_count": null,
   "metadata": {},
   "outputs": [],
   "source": []
  }
 ],
 "metadata": {
  "kernelspec": {
   "display_name": "Python 3",
   "language": "python",
   "name": "python3"
  },
  "language_info": {
   "codemirror_mode": {
    "name": "ipython",
    "version": 3
   },
   "file_extension": ".py",
   "mimetype": "text/x-python",
   "name": "python",
   "nbconvert_exporter": "python",
   "pygments_lexer": "ipython3",
   "version": "3.7.6"
  }
 },
 "nbformat": 4,
 "nbformat_minor": 2
}
